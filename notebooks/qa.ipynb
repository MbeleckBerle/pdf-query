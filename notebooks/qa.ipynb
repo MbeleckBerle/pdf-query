{
 "cells": [
  {
   "cell_type": "code",
   "execution_count": 2,
   "metadata": {},
   "outputs": [],
   "source": [
    "import pandas as pd\n",
    "import numpy as np\n",
    "import nltk\n",
    "import string\n",
    "import random\n",
    "from sklearn.feature_extraction.text import TfidfVectorizer\n",
    "from sklearn.metrics.pairwise import cosine_similarity"
   ]
  },
  {
   "cell_type": "code",
   "execution_count": 3,
   "metadata": {},
   "outputs": [
    {
     "name": "stdout",
     "output_type": "stream",
     "text": [
      "\n",
      "Data science is an interdisciplinary academic field[1] that uses statistics, scientific computing, scientific methods, processing, \n",
      "scientific visualization, algorithms and systems to extract or extrapolate knowledge and insights from potentially noisy, structured, or unstructured data.[2]\n",
      "\n",
      "Data science also integrates domain knowledge from the underlying application domain (e.g., natural sciences, information technology, and medicine).[3] \n",
      "Data science is multifaceted and can be described as a science, a research paradigm, a research method, a discipline, a workflow, and a profession.[4]\n",
      "\n",
      "Data science is \"a concept to unify statistics, data analysis, informatics, and their related methods\" to \"understand and analyze actual phenomena\" \n",
      "with data.[5] It uses techniques and theories drawn from many fields within the context of mathematics, statistics, computer science, information science, \n",
      "and domain knowledge.[6] However, data science is different from computer science and information science. Turing Award winner Jim Gray imagined data science \n",
      "as a \"fourth paradigm\" of science (empirical, theoretical, computational, and now data-driven) and asserted that \"everything about science is changing because \n",
      "of the impact of information technology\" and the data deluge.[7][8]\n",
      "\n",
      "A data scientist is a professional who creates programming code and combines it with statistical knowledge to create insights from data.[9]\n",
      "Foundations\n",
      "Data science is an interdisciplinary field[10] focused on extracting knowledge from typically large data sets and applying the knowledge and insights from that\n",
      "data to solve problems in a wide range of application domains. The field encompasses preparing data for analysis, formulating data science problems, analyzing \n",
      "data, developing data-driven solutions, and presenting findings to inform high-level decisions in a broad range of application domains. As such, it incorporates \n",
      "skills from computer science, statistics, information science, mathematics, data visualization, information visualization, data sonification, data integration, \n",
      "graphic design, complex systems, communication and business.[11][12] Statistician Nathan Yau, drawing on Ben Fry, also links data science to human–computer interaction: \n",
      "users should be able to intuitively control and explore data.[13][14] In 2015, the American Statistical Association identified database management, statistics and \n",
      "machine learning, and distributed and parallel systems as the three emerging foundational professional communities.[15]\n",
      "\n",
      "Relationship to statistics\n",
      "Many statisticians, including Nate Silver, have argued that data science is not a new field, but rather another name for statistics.[16] Others argue that data science is\n",
      "distinct from statistics because it focuses on problems and techniques unique to digital data.[17] Vasant Dhar writes that statistics emphasizes quantitative data and description.\n",
      "In contrast, data science deals with quantitative and qualitative data (e.g., from images, text, sensors, transactions, customer information, etc.) and emphasizes prediction and \n",
      "action.[18] Andrew Gelman of Columbia University has described statistics as a non-essential part of data science.[19]\n",
      "\n",
      "Stanford professor David Donoho writes that data science is not distinguished from statistics by the size of datasets or use of computing and that many graduate programs misleadingly\n",
      "advertise their analytics and statistics training as the essence of a data-science program. He describes data science as an applied field growing out of traditional statistics.[20]\n"
     ]
    }
   ],
   "source": [
    "data = open(\"data.txt\", \"r\", errors=\"ignore\")\n",
    "text = data.read()\n",
    "print(text)"
   ]
  },
  {
   "cell_type": "code",
   "execution_count": 4,
   "metadata": {},
   "outputs": [
    {
     "name": "stdout",
     "output_type": "stream",
     "text": [
      "['data', 'science', 'is', 'an', 'interdisciplinary']\n",
      "\n",
      "\n",
      "data science is an interdisciplinary academic field[1] that uses statistics, scientific computing, scientific methods, processing, \n",
      "scientific visualization, algorithms and systems to extract or extrapolate knowledge and insights from potentially noisy, structured, or unstructured data. \n",
      "\n",
      "[2]\n",
      "\n",
      "data science also integrates domain knowledge from the underlying application domain (e.g., natural sciences, information technology, and medicine). \n",
      "\n",
      "[3] \n",
      "data science is multifaceted and can be described as a science, a research paradigm, a research method, a discipline, a workflow, and a profession. \n",
      "\n",
      "[4]\n",
      "\n",
      "data science is \"a concept to unify statistics, data analysis, informatics, and their related methods\" to \"understand and analyze actual phenomena\" \n",
      "with data. \n",
      "\n",
      "[5] it uses techniques and theories drawn from many fields within the context of mathematics, statistics, computer science, information science, \n",
      "and domain knowledge. \n",
      "\n"
     ]
    },
    {
     "name": "stderr",
     "output_type": "stream",
     "text": [
      "[nltk_data] Downloading package punkt_tab to /home/mojo/nltk_data...\n",
      "[nltk_data]   Package punkt_tab is already up-to-date!\n"
     ]
    }
   ],
   "source": [
    "nltk.download(\"punkt_tab\")\n",
    "\n",
    "text = text.lower()\n",
    "\n",
    "# tokenize the words\n",
    "wr_ids = nltk.word_tokenize(text)\n",
    "\n",
    "st_ids = nltk.sent_tokenize(text)\n",
    "print(wr_ids[:5])\n",
    "print(\"\")\n",
    "for i in st_ids[:5]:\n",
    "    print(i, \"\\n\")"
   ]
  },
  {
   "cell_type": "code",
   "execution_count": 5,
   "metadata": {},
   "outputs": [
    {
     "data": {
      "text/plain": [
       "['data', 'science', 'is', 'an', 'interdisciplinary']"
      ]
     },
     "execution_count": 5,
     "metadata": {},
     "output_type": "execute_result"
    }
   ],
   "source": [
    "wr_ids[:5]"
   ]
  },
  {
   "cell_type": "code",
   "execution_count": 1,
   "metadata": {},
   "outputs": [],
   "source": [
    "# define function for response\n",
    "def get_output(user_input):\n",
    "    # define the output\n",
    "    output = \"\"\n",
    "\n",
    "    # append input to text\n",
    "    st_ids.append(user_input)\n",
    "\n",
    "    # define tfidf\n",
    "    txt_v = TfidfVectorizer(stop_words=\"english\")\n",
    "\n",
    "    vec_txt = txt_v.fit_transform(st_ids)\n",
    "\n",
    "    # get score\n",
    "    rank_score = cosine_similarity(vec_txt[-1], vec_txt)\n",
    "    idx = rank_score.argsort()[0][-2]\n",
    "    # print(idx)\n",
    "    print(rank_score)\n",
    "    print(\"\")\n",
    "    print(rank_score.argsort())\n",
    "    ft_out = rank_score.flatten()\n",
    "    ft_out.sort()\n",
    "    final_v = ft_out[-2]\n",
    "\n",
    "    if final_v == 0:\n",
    "        output = output + \"Don't know this answer, ask something else\"\n",
    "        return output\n",
    "    else:\n",
    "        output = output + st_ids[idx]\n",
    "        return output"
   ]
  },
  {
   "cell_type": "code",
   "execution_count": 15,
   "metadata": {},
   "outputs": [
    {
     "name": "stdout",
     "output_type": "stream",
     "text": [
      "Enter a question\n",
      "\n",
      "\n",
      "Qusetion:  what is data science?\n",
      "[[0.14516732 0.1501365  0.22309376 0.28993903 0.16775836 0.56013978\n",
      "  0.33820366 0.1553607  0.22766985 0.26817205 0.29050429 0.17519205\n",
      "  0.         0.15781009 0.25252329 0.09073596 0.23188967 0.\n",
      "  0.17063108 0.21675768 0.22048489 0.         1.        ]]\n",
      "\n",
      "[[17 12 21 15  0  1  7 13  4 18 11 19 20  2  8 16 14  9  3 10  6  5 22]]\n",
      "Ans: [6] however, data science is different from computer science and information science.\n",
      "\n"
     ]
    }
   ],
   "source": [
    "print(\"Enter a question\")\n",
    "print(\"\")\n",
    "in_txt = input()\n",
    "in_txt = in_txt.lower()\n",
    "print(\"\")\n",
    "print(\"Qusetion: \", in_txt)\n",
    "print(\"Ans:\", get_output(in_txt))\n",
    "print(\"\")\n",
    "st_ids.remove(in_txt)"
   ]
  }
 ],
 "metadata": {
  "kernelspec": {
   "display_name": "tf-py3.10",
   "language": "python",
   "name": "python3"
  },
  "language_info": {
   "codemirror_mode": {
    "name": "ipython",
    "version": 3
   },
   "file_extension": ".py",
   "mimetype": "text/x-python",
   "name": "python",
   "nbconvert_exporter": "python",
   "pygments_lexer": "ipython3",
   "version": "3.10.15"
  }
 },
 "nbformat": 4,
 "nbformat_minor": 2
}
